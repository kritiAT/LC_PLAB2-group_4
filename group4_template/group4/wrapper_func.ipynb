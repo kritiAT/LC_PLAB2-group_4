{
 "cells": [
  {
   "cell_type": "code",
   "execution_count": 1,
   "outputs": [
    {
     "data": {
      "text/plain": "2"
     },
     "execution_count": 1,
     "metadata": {},
     "output_type": "execute_result"
    }
   ],
   "source": [
    "1+1"
   ],
   "metadata": {
    "collapsed": false,
    "pycharm": {
     "name": "#%%\n"
    }
   }
  },
  {
   "cell_type": "code",
   "execution_count": 3,
   "outputs": [
    {
     "data": {
      "text/plain": "'C:\\\\Users\\\\kriti\\\\Desktop\\\\PLAB2_venv\\\\group_4\\\\group4_template\\\\group4'"
     },
     "execution_count": 3,
     "metadata": {},
     "output_type": "execute_result"
    }
   ],
   "source": [
    "import os\n",
    "os.getcwd()"
   ],
   "metadata": {
    "collapsed": false,
    "pycharm": {
     "name": "#%%\n"
    }
   }
  },
  {
   "cell_type": "code",
   "execution_count": 4,
   "outputs": [
    {
     "data": {
      "text/plain": "['Blast.py',\n 'cli.py',\n 'Click_task3.py',\n 'constants.py',\n 'gene_finder.py',\n 'sequence_assembly.py',\n 'sequence_short.fasta',\n 'utils.py',\n 'wrapper_func.ipynb',\n '__init__.py',\n '__pycache__']"
     },
     "execution_count": 4,
     "metadata": {},
     "output_type": "execute_result"
    }
   ],
   "source": [
    "os.listdir()"
   ],
   "metadata": {
    "collapsed": false,
    "pycharm": {
     "name": "#%%\n"
    }
   }
  },
  {
   "cell_type": "code",
   "execution_count": 5,
   "outputs": [],
   "source": [
    "def single_fasta_sequence(filepath: str):\n",
    "        \"\"\"\n",
    "        Extracts the sequences from a fastq file containing single sequence\n",
    "        Args:\n",
    "            filepath: (str) path to file\n",
    "\n",
    "        Returns:\n",
    "            (tuple[str]) header and sequence\n",
    "\n",
    "        \"\"\"\n",
    "        with open(filepath, 'r') as data:\n",
    "            file = data.readlines()\n",
    "            header = file[0].strip()[1:]\n",
    "            sequence = ''.join([line.strip() for line in file[1:]])\n",
    "            return header, sequence"
   ],
   "metadata": {
    "collapsed": false,
    "pycharm": {
     "name": "#%%\n"
    }
   }
  },
  {
   "cell_type": "code",
   "execution_count": 7,
   "outputs": [
    {
     "data": {
      "text/plain": "2154"
     },
     "execution_count": 7,
     "metadata": {},
     "output_type": "execute_result"
    }
   ],
   "source": [
    "ecoli = single_fasta_sequence('sequence_short.fasta')[1]\n",
    "\n",
    "len(ecoli)"
   ],
   "metadata": {
    "collapsed": false,
    "pycharm": {
     "name": "#%%\n"
    }
   }
  },
  {
   "cell_type": "code",
   "execution_count": 23,
   "outputs": [
    {
     "data": {
      "text/plain": "'CCGGAAGCGCGTCACGCCATTAACACCAATATTTTCTCCACGCTGGTCCCTAACCAGCAGGCCGTCAACGTGATGTTCTGCGACATGGCAGCGCCGACGGAAATCCCGTCCCCTATGCCGGATGGCGGCCTGACCACGTTGTATACCATGCGCGCGACGCCGGGCTGGAACTTCCGCCCGGAGGGGATCACCCTGTTGTCTGCCAAATACGCATAAACGTTCAACCTGATAACGCGGGGAGCTAAATGCTCCCCTTTTTTGTGGGAAAAATTTATGAAGCTCTACATCGCTAACTGCTCACGTCAGCCGCACACGTTCAACTACAAACTCCCCGAAAAAACGCAGTCGTTCGGTGTGACAATTCCGTCCGGACGTCAGCATATGATCGAAAATCAGTCCGATATTATCGACCACATTATCCGACAGCATGAACCTTACGGGTTCCAGCGTTGTGACAAGGTGGACAAGAATTTTTCCGGTATCTGCTATTCCATCGATAAACCTGTGAGCGTTGGTCGTATTGAGGATTGCGCGGAGCAGAAAACGGAAAATCTGGAATCCATGTCAGAGGAAATTCTTGCGGCCAGCGCCATATCGCTGAATAACGCAGTGGATCAGGCAGTGATTCAGAGCGGCGAAAAACCTCAACCTGGCGGTATTGAGATGGAAATCACCGGGGAGGCGGTCAACACCGAACAGGAAAATCCGCCCAGCACAAAACGAAATATTAGGGTTAAAAAATAATGCCCCTGCGTCCCTCACTGGAGGGATTTATTCGCTTCGTTCGTGATGACATGAAAGTACCGGTTCACGCTATTGCTGACGATGATCCGACGCTGGAATGTTGCTTTCAGTCTGCGATGGAGCTAATCCCTCACGATCAGGGGCTGGAGCGTTTACCCGTTATCTATGTGCGAACGGTTTATAACGCTGCCGCCTCATTCCTCCTGAATTTCGCCCCTGGTTCGTGGTTTGCCGACCTGCGAAAAAAACTCAACCTTGGGAAGCTGGCTACCGGGATTATCAGCGCGGCAGCAGACCAGGGGACATCGGGTTCGATCACCATCAGCGACGCGCTGAGTAATCTGTCTTTGCTGGATTTGCAGATGTTACAGGATCCGTATGGGCGACAGGTTGTTGCGGTGCTGATGCAGATGGGCACGGTATGGGGGTAACCGAGCCGTTTCTGACGCGCATGATGATGTCAACATTCAGAGGGGATTGTGTGCTGGTGGTATCTTCGCGCAGCTTCTTCTCGCACTCGATGAAGTATCGGCGGATCTGGCGTCCTTTTTCGTTGCGCTCGACCATTGCCAGCTCTTTGGCAGTGTCTAGGGTGAGGTGGTAGTCCTTGCGGTTATGTCCTCCTCTGCCTCCTAACGATTGCTTTCCTGTTTTGGAAAGCAAAATGTAATCTTGATTTTCTGTAAATCCGTATTCTGCGATGCGGGATGTAATCCAGGCTGCGAAAACCTTACCTACACCAAGAAAAGCGTGCAGATCACGAGCATTACAGAGTAGGGCGGTTTCGTTTGAGATAGTTCCGTTGAAAACGGGGATTAATTGTATTGTCATAACGACCTCACTGATTTTTTCGAATTTCCACTATCGGAGTGGAGCCGGGAGGTTCGAAACGGCTCAGTGAGGCCGCGGACTTATTCCCCTTTCGGGTGTTGTATTCGTCGCCCTCCCGACATTGTTCGGGGATGTGACCGCACATTGTGCCATCACTAAATAGCAGGCATAAAAAATCCAACACTAACGGGGTTGGTTGTGACCGCACTGAGAAGAGGTTTCGACGCCTCATGCGCTTAATCATACTCAACTGGGCGCGGTTGTAAAGTATGAACTTGAACGGACATTAAGAATGGGTAAAATTTAATCTCCTGTTTTTAAGGAGATTACGGATGATTAAGTTTAAATTATTTGTAGTGTTTGCTTTTTTATTACAAATCGGAACTGCGAATGCGGTATCTTTTGATTGCTCGAAAGCTAAATCATATTCTGAAAAGTTAATTTGCAGCAACAGTGAATTATCTGAACTTGATGATAAATTAAATTCTTTATATCAAAAAGTAAAGTTAGAGAGCGCTGATAAGAAAGCTTTTAGAAAAATTGTTTCAGACTTGTGGAATGAAAGAGAGAAGTGCAAAA'"
     },
     "execution_count": 23,
     "metadata": {},
     "output_type": "execute_result"
    }
   ],
   "source": [
    "ecoli"
   ],
   "metadata": {
    "collapsed": false,
    "pycharm": {
     "name": "#%%\n"
    }
   }
  },
  {
   "cell_type": "code",
   "execution_count": 16,
   "outputs": [
    {
     "name": "stdout",
     "output_type": "stream",
     "text": [
      "359.0\n",
      "1 359\n",
      "2 718\n",
      "3 1077\n",
      "4 1436\n",
      "5 1795\n",
      "6 2154\n"
     ]
    }
   ],
   "source": [
    "print(2154/6)\n",
    "for i in range(1,7):\n",
    "    print(i, i*359)"
   ],
   "metadata": {
    "collapsed": false,
    "pycharm": {
     "name": "#%%\n"
    }
   }
  },
  {
   "cell_type": "code",
   "execution_count": 21,
   "outputs": [
    {
     "data": {
      "text/plain": "(2250, 1804)"
     },
     "execution_count": 21,
     "metadata": {},
     "output_type": "execute_result"
    }
   ],
   "source": [
    "1900+350, 2154-350"
   ],
   "metadata": {
    "collapsed": false,
    "pycharm": {
     "name": "#%%\n"
    }
   }
  },
  {
   "cell_type": "code",
   "execution_count": 24,
   "outputs": [],
   "source": [
    "ecoli_kmers = [ecoli[:350], ecoli[300:650], ecoli[550:900], ecoli[800:1150], ecoli[1000:1350], ecoli[1300:1650], ecoli[1630:1980], ecoli[1804:]]"
   ],
   "metadata": {
    "collapsed": false,
    "pycharm": {
     "name": "#%%\n"
    }
   }
  },
  {
   "cell_type": "code",
   "execution_count": 25,
   "outputs": [],
   "source": [
    "with open('ecoli_kmers.txt', 'w') as e_file:\n",
    "    for i in ecoli_kmers:\n",
    "        e_file.write(f'{i}\\n')"
   ],
   "metadata": {
    "collapsed": false,
    "pycharm": {
     "name": "#%%\n"
    }
   }
  },
  {
   "cell_type": "code",
   "execution_count": 26,
   "metadata": {
    "collapsed": true
   },
   "outputs": [],
   "source": [
    "from group4_template.group4.sequence_assembly import *\n",
    "from group4_template.group4.gene_finder import *\n",
    "from group4_template.group4.Blast import *\n",
    "from group4_template.group4.constants import *\n",
    "from group4_template.group4.utils import *\n",
    "\n",
    "import time"
   ]
  },
  {
   "cell_type": "code",
   "execution_count": 30,
   "outputs": [
    {
     "name": "stdout",
     "output_type": "stream",
     "text": [
      "('assembled : ', 31.40234398841858)\n",
      "('translated : ', 0.0)\n"
     ]
    }
   ],
   "source": [
    "start = time.time()\n",
    "assembled_dna = Assembly(sequences='ecoli_kmers.txt', output_path='ecoli_output.txt').assembled_sequence\n",
    "end = time.time()\n",
    "print(('assembled : ',end - start))\n",
    "\n",
    "\n",
    "\n"
   ],
   "metadata": {
    "collapsed": false,
    "pycharm": {
     "name": "#%%\n"
    }
   }
  },
  {
   "cell_type": "code",
   "execution_count": 41,
   "outputs": [
    {
     "name": "stdout",
     "output_type": "stream",
     "text": [
      "('translated : ', 0.015627384185791016)\n"
     ]
    }
   ],
   "source": [
    "start = time.time()\n",
    "obj = Translate(dna='ecoli_output.txt', reverse=True, threshold=70)\n",
    "protein_list =  obj.proteins\n",
    "protein_table = obj.proteins_table\n",
    "end = time.time()\n",
    "print(('translated : ',end - start))"
   ],
   "metadata": {
    "collapsed": false,
    "pycharm": {
     "name": "#%%\n"
    }
   }
  },
  {
   "cell_type": "code",
   "execution_count": 43,
   "outputs": [
    {
     "data": {
      "text/plain": "['PLRPSLEGFIRFVRDDKVPVHAIADDDPTLECCFQSAELIPHDQGLERLPVIYVRTVYNAAASFLLNFAPGSWFADLRKKLNLGKLATGIISAAADQGTSGSITISDALSNLSLLDLQLQDPYGRQVVAVLQGTVWG',\n 'KLYIANCSRQPHTFNYKLPEKTQSFGVTIPSGRQHIENQSDIIDHIIRQHEPYGFQRCDKVDKNFSGICYSIDKPVSVGRIEDCAEQKTENLESSEEILAASAISLNNAVDQAVIQSGEKPQPGGIEEITGEAVNTEQENPPSTKRNIRVKK',\n 'TIQLIPVFNGTISNETALLCNARDLHAFLGVGKVFAAWITSRIAEYGFTENQDYILLSKTGKQSLGGRGGHNRKDYHLTLDTAKELAVERNEKGRQIRRYFIECEKKLREDTTSTQSPLNVDIIRVRNGSVTPIPCPSASAPQQPVAHTDPVTSANPAKTDYSARR',\n 'IKRRRRNLFSVRSQPTPLVLDFLCLLFSDGTCGHIPEQCREGDEYNTRKGNKSAASLSRFEPPGSTPIVEIRKNQ']"
     },
     "execution_count": 43,
     "metadata": {},
     "output_type": "execute_result"
    }
   ],
   "source": [
    "protein_list"
   ],
   "metadata": {
    "collapsed": false,
    "pycharm": {
     "name": "#%%\n"
    }
   }
  },
  {
   "cell_type": "code",
   "execution_count": 44,
   "outputs": [
    {
     "data": {
      "text/plain": "    strand  position                                            protein\n0  forward  743-1175  PLRPSLEGFIRFVRDDKVPVHAIADDDPTLECCFQSAELIPHDQGL...\n1  forward   273-744  KLYIANCSRQPHTFNYKLPEKTQSFGVTIPSGRQHIENQSDIIDHI...\n2  reverse  579-1089  TIQLIPVFNGTISNETALLCNARDLHAFLGVGKVFAAWITSRIAEY...\n3  reverse   335-572  IKRRRRNLFSVRSQPTPLVLDFLCLLFSDGTCGHIPEQCREGDEYN...",
      "text/html": "<div>\n<style scoped>\n    .dataframe tbody tr th:only-of-type {\n        vertical-align: middle;\n    }\n\n    .dataframe tbody tr th {\n        vertical-align: top;\n    }\n\n    .dataframe thead th {\n        text-align: right;\n    }\n</style>\n<table border=\"1\" class=\"dataframe\">\n  <thead>\n    <tr style=\"text-align: right;\">\n      <th></th>\n      <th>strand</th>\n      <th>position</th>\n      <th>protein</th>\n    </tr>\n  </thead>\n  <tbody>\n    <tr>\n      <th>0</th>\n      <td>forward</td>\n      <td>743-1175</td>\n      <td>PLRPSLEGFIRFVRDDKVPVHAIADDDPTLECCFQSAELIPHDQGL...</td>\n    </tr>\n    <tr>\n      <th>1</th>\n      <td>forward</td>\n      <td>273-744</td>\n      <td>KLYIANCSRQPHTFNYKLPEKTQSFGVTIPSGRQHIENQSDIIDHI...</td>\n    </tr>\n    <tr>\n      <th>2</th>\n      <td>reverse</td>\n      <td>579-1089</td>\n      <td>TIQLIPVFNGTISNETALLCNARDLHAFLGVGKVFAAWITSRIAEY...</td>\n    </tr>\n    <tr>\n      <th>3</th>\n      <td>reverse</td>\n      <td>335-572</td>\n      <td>IKRRRRNLFSVRSQPTPLVLDFLCLLFSDGTCGHIPEQCREGDEYN...</td>\n    </tr>\n  </tbody>\n</table>\n</div>"
     },
     "execution_count": 44,
     "metadata": {},
     "output_type": "execute_result"
    }
   ],
   "source": [
    "protein_table"
   ],
   "metadata": {
    "collapsed": false,
    "pycharm": {
     "name": "#%%\n"
    }
   }
  },
  {
   "cell_type": "code",
   "execution_count": 46,
   "outputs": [
    {
     "name": "stdout",
     "output_type": "stream",
     "text": [
      "Will wait and check in 60 seconds\n",
      "The staus is ready\n",
      "https://blast.ncbi.nlm.nih.gov/Blast.cgi?CMD=get&RID=0072JS8S01R\n",
      "The sequence was succesfully aligned!\n",
      "The html results have been saved in the home folder as orf1_temporary.html\n",
      "Will wait and check in 60 seconds\n",
      "The staus is ready\n",
      "https://blast.ncbi.nlm.nih.gov/Blast.cgi?CMD=get&RID=00750RU0013\n",
      "The sequence was succesfully aligned!\n",
      "The html results have been saved in the home folder as orf2_temporary.html\n",
      "Will wait and check in 60 seconds\n",
      "Will wait and check in 60 seconds\n",
      "Will wait and check in 60 seconds\n",
      "The staus is ready\n",
      "https://blast.ncbi.nlm.nih.gov/Blast.cgi?CMD=get&RID=0077CTRK013\n",
      "The sequence was succesfully aligned!\n",
      "The html results have been saved in the home folder as orf3_temporary.html\n",
      "Will wait and check in 60 seconds\n",
      "The staus is ready\n",
      "https://blast.ncbi.nlm.nih.gov/Blast.cgi?CMD=get&RID=007DM67U016\n",
      "The sequence was succesfully aligned!\n",
      "The html results have been saved in the home folder as orf4_temporary.html\n",
      "The job is complete for all the sequences!\n",
      "('blast : ', 429.8100564479828)\n"
     ]
    }
   ],
   "source": [
    "start = time.time()\n",
    "protein_dict = Blast_orfs(protein_list)\n",
    "end = time.time()\n",
    "print(('blast : ',end - start))"
   ],
   "metadata": {
    "collapsed": false,
    "pycharm": {
     "name": "#%%\n"
    }
   }
  },
  {
   "cell_type": "code",
   "execution_count": 47,
   "outputs": [
    {
     "data": {
      "text/plain": "7.163500940799713"
     },
     "execution_count": 47,
     "metadata": {},
     "output_type": "execute_result"
    }
   ],
   "source": [
    "429.8100564479828/60"
   ],
   "metadata": {
    "collapsed": false,
    "pycharm": {
     "name": "#%%\n"
    }
   }
  },
  {
   "cell_type": "code",
   "execution_count": 48,
   "outputs": [
    {
     "data": {
      "text/plain": "{'PLRPSLEGFIRFVRDDKVPVHAIADDDPTLECCFQSAELIPHDQGLERLPVIYVRTVYNAAASFLLNFAPGSWFADLRKKLNLGKLATGIISAAADQGTSGSITISDALSNLSLLDLQLQDPYGRQVVAVLQGTVWG': ['3W01_A',\n  '5KJ5_A',\n  '5KLN_A',\n  '6NCE_A',\n  '2NQ9_A'],\n 'KLYIANCSRQPHTFNYKLPEKTQSFGVTIPSGRQHIENQSDIIDHIIRQHEPYGFQRCDKVDKNFSGICYSIDKPVSVGRIEDCAEQKTENLESSEEILAASAISLNNAVDQAVIQSGEKPQPGGIEEITGEAVNTEQENPPSTKRNIRVKK': ['6PIF_H',\n  '6V9Q_H',\n  '6LNB_A',\n  '6UVN_A',\n  '6FAH_B',\n  '5T5H_o',\n  '3IAN_A',\n  '6AZ3_o',\n  '3JCS_m',\n  '4V8M_Bo'],\n 'TIQLIPVFNGTISNETALLCNARDLHAFLGVGKVFAAWITSRIAEYGFTENQDYILLSKTGKQSLGGRGGHNRKDYHLTLDTAKELAVERNEKGRQIRRYFIECEKKLREDTTSTQSPLNVDIIRVRNGSVTPIPCPSASAPQQPVAHTDPVTSANPAKTDYSARR': ['1QQN_A',\n  '1QQM_A',\n  '2V7Z_A',\n  '1QQO_A',\n  '6B1M_A',\n  '6B1I_A',\n  '1KAY_A',\n  '4HWI_A',\n  '1KAX_A',\n  '1HX1_A',\n  '3FZF_A',\n  '5AQF_A',\n  '2BUP_A',\n  '1KAZ_A',\n  '1NGD_A',\n  '1NGF_A',\n  '1NGH_A',\n  '4H5N_A',\n  '3CQX_A',\n  '6ZYJ_A',\n  '1NGC_A',\n  '1NGE_A',\n  '1NGG_A',\n  '1NGA_A',\n  '2QWN_A',\n  '1HPM_A',\n  '1BUP_A',\n  '1NGB_A',\n  '1BA0_A',\n  '1ATS_A',\n  '1ATR_A',\n  '2QW9_A',\n  '1BA1_A',\n  '1YUW_A',\n  '3C7N_B',\n  '5AQM_A',\n  '5AQL_A',\n  '5AQW_A',\n  '6ZYI_A',\n  '2E88_A',\n  '2E8A_A',\n  '5BN8_A',\n  '6FHK_A',\n  '3D2E_B',\n  '4IO8_A',\n  '1S3X_A',\n  '1HJO_A',\n  '3D2F_B',\n  '3A8Y_A',\n  '4FSV_A',\n  '3JXU_A',\n  '5FPD_A',\n  '3I33_A',\n  '4J8F_A',\n  '7KW7_C',\n  '3GDQ_A',\n  '5FPN_A',\n  '1XQS_C',\n  '5BN9_A',\n  '3FE1_A',\n  '1XIP_A',\n  '5BPM_A',\n  '3RRM_C',\n  '6GFA_A',\n  '5WW9_A',\n  '4M32_A',\n  '4M35_A',\n  '2Z90_A',\n  '4M33_A',\n  '4M34_A',\n  '4BZJ_A',\n  '6ZL0_A',\n  '3GL1_A',\n  '4YUU_A1'],\n 'IKRRRRNLFSVRSQPTPLVLDFLCLLFSDGTCGHIPEQCREGDEYNTRKGNKSAASLSRFEPPGSTPIVEIRKNQ': ['4HQJ_B',\n  '3WGU_B',\n  '3KDP_B',\n  '3N23_B']}"
     },
     "execution_count": 48,
     "metadata": {},
     "output_type": "execute_result"
    }
   ],
   "source": [
    "protein_dict"
   ],
   "metadata": {
    "collapsed": false,
    "pycharm": {
     "name": "#%%\n"
    }
   }
  },
  {
   "cell_type": "code",
   "execution_count": 49,
   "outputs": [
    {
     "data": {
      "text/plain": "    strand  position                                            protein  \\\n0  forward  743-1175  PLRPSLEGFIRFVRDDKVPVHAIADDDPTLECCFQSAELIPHDQGL...   \n1  forward   273-744  KLYIANCSRQPHTFNYKLPEKTQSFGVTIPSGRQHIENQSDIIDHI...   \n2  reverse  579-1089  TIQLIPVFNGTISNETALLCNARDLHAFLGVGKVFAAWITSRIAEY...   \n3  reverse   335-572  IKRRRRNLFSVRSQPTPLVLDFLCLLFSDGTCGHIPEQCREGDEYN...   \n\n                                  predicted_proteins  \n0           [3W01_A, 5KJ5_A, 5KLN_A, 6NCE_A, 2NQ9_A]  \n1  [6PIF_H, 6V9Q_H, 6LNB_A, 6UVN_A, 6FAH_B, 5T5H_...  \n2  [1QQN_A, 1QQM_A, 2V7Z_A, 1QQO_A, 6B1M_A, 6B1I_...  \n3                   [4HQJ_B, 3WGU_B, 3KDP_B, 3N23_B]  ",
      "text/html": "<div>\n<style scoped>\n    .dataframe tbody tr th:only-of-type {\n        vertical-align: middle;\n    }\n\n    .dataframe tbody tr th {\n        vertical-align: top;\n    }\n\n    .dataframe thead th {\n        text-align: right;\n    }\n</style>\n<table border=\"1\" class=\"dataframe\">\n  <thead>\n    <tr style=\"text-align: right;\">\n      <th></th>\n      <th>strand</th>\n      <th>position</th>\n      <th>protein</th>\n      <th>predicted_proteins</th>\n    </tr>\n  </thead>\n  <tbody>\n    <tr>\n      <th>0</th>\n      <td>forward</td>\n      <td>743-1175</td>\n      <td>PLRPSLEGFIRFVRDDKVPVHAIADDDPTLECCFQSAELIPHDQGL...</td>\n      <td>[3W01_A, 5KJ5_A, 5KLN_A, 6NCE_A, 2NQ9_A]</td>\n    </tr>\n    <tr>\n      <th>1</th>\n      <td>forward</td>\n      <td>273-744</td>\n      <td>KLYIANCSRQPHTFNYKLPEKTQSFGVTIPSGRQHIENQSDIIDHI...</td>\n      <td>[6PIF_H, 6V9Q_H, 6LNB_A, 6UVN_A, 6FAH_B, 5T5H_...</td>\n    </tr>\n    <tr>\n      <th>2</th>\n      <td>reverse</td>\n      <td>579-1089</td>\n      <td>TIQLIPVFNGTISNETALLCNARDLHAFLGVGKVFAAWITSRIAEY...</td>\n      <td>[1QQN_A, 1QQM_A, 2V7Z_A, 1QQO_A, 6B1M_A, 6B1I_...</td>\n    </tr>\n    <tr>\n      <th>3</th>\n      <td>reverse</td>\n      <td>335-572</td>\n      <td>IKRRRRNLFSVRSQPTPLVLDFLCLLFSDGTCGHIPEQCREGDEYN...</td>\n      <td>[4HQJ_B, 3WGU_B, 3KDP_B, 3N23_B]</td>\n    </tr>\n  </tbody>\n</table>\n</div>"
     },
     "execution_count": 49,
     "metadata": {},
     "output_type": "execute_result"
    }
   ],
   "source": [
    "protein_table['predicted_proteins'] = protein_table['protein'].apply(lambda x: protein_dict[x])\n",
    "protein_table"
   ],
   "metadata": {
    "collapsed": false,
    "pycharm": {
     "name": "#%%\n"
    }
   }
  },
  {
   "cell_type": "code",
   "execution_count": null,
   "outputs": [],
   "source": [
    "https://www.ncbi.nlm.nih.gov/Traces/wgs/DAFMEU01?display=contigs&page=7"
   ],
   "metadata": {
    "collapsed": false,
    "pycharm": {
     "name": "#%%\n"
    }
   }
  },
  {
   "cell_type": "code",
   "execution_count": 51,
   "outputs": [
    {
     "data": {
      "text/plain": "WindowsPath('C:/Users/kriti')"
     },
     "execution_count": 51,
     "metadata": {},
     "output_type": "execute_result"
    }
   ],
   "source": [
    "import pathlib\n",
    "\n",
    "pathlib.Path.home()"
   ],
   "metadata": {
    "collapsed": false,
    "pycharm": {
     "name": "#%%\n"
    }
   }
  }
 ],
 "metadata": {
  "kernelspec": {
   "display_name": "Python 3",
   "language": "python",
   "name": "python3"
  },
  "language_info": {
   "codemirror_mode": {
    "name": "ipython",
    "version": 2
   },
   "file_extension": ".py",
   "mimetype": "text/x-python",
   "name": "python",
   "nbconvert_exporter": "python",
   "pygments_lexer": "ipython2",
   "version": "2.7.6"
  }
 },
 "nbformat": 4,
 "nbformat_minor": 0
}