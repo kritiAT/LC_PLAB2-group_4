{
 "cells": [
  {
   "cell_type": "code",
   "execution_count": 1,
   "outputs": [
    {
     "data": {
      "text/plain": "2"
     },
     "execution_count": 1,
     "metadata": {},
     "output_type": "execute_result"
    }
   ],
   "source": [
    "1+1"
   ],
   "metadata": {
    "collapsed": false,
    "pycharm": {
     "name": "#%%\n"
    }
   }
  },
  {
   "cell_type": "code",
   "execution_count": 2,
   "metadata": {
    "collapsed": true
   },
   "outputs": [],
   "source": [
    "from group4_template.group4.sequence_assembly import *\n",
    "from group4_template.group4.gene_finder import *\n",
    "from group4_template.group4.Blast import *\n",
    "from group4_template.group4.constants import *\n",
    "from group4_template.group4.utils import *"
   ]
  },
  {
   "cell_type": "code",
   "execution_count": null,
   "outputs": [],
   "source": [
    "assembled_dna = Assembly(sequences=sequences, output_path=output_dna).assembled_sequence\n",
    "obj = Translate(dna=output_dna, reverse=reverse, threshold=threshold, output_path=output)\n",
    "protein_list =  obj.proteins\n",
    "protein_table = obj.proteins_table\n",
    "protein_dict = Blast_sequence (protein_list, filename, file_type, keep_files)\n",
    "protein_dict.values()"
   ],
   "metadata": {
    "collapsed": false,
    "pycharm": {
     "name": "#%%\n"
    }
   }
  },
  {
   "cell_type": "code",
   "execution_count": null,
   "outputs": [],
   "source": [
    "protein_table['predicted_proteins'] = protein_table['protein'].apply(lambda x: protein_dict[x])\n",
    "protein_table"
   ],
   "metadata": {
    "collapsed": false,
    "pycharm": {
     "name": "#%%\n"
    }
   }
  },
  {
   "cell_type": "code",
   "execution_count": null,
   "outputs": [],
   "source": [
    "https://www.ncbi.nlm.nih.gov/Traces/wgs/DAFMEU01?display=contigs&page=7\n"
   ],
   "metadata": {
    "collapsed": false,
    "pycharm": {
     "name": "#%%\n"
    }
   }
  }
 ],
 "metadata": {
  "kernelspec": {
   "display_name": "Python 3",
   "language": "python",
   "name": "python3"
  },
  "language_info": {
   "codemirror_mode": {
    "name": "ipython",
    "version": 2
   },
   "file_extension": ".py",
   "mimetype": "text/x-python",
   "name": "python",
   "nbconvert_exporter": "python",
   "pygments_lexer": "ipython2",
   "version": "2.7.6"
  }
 },
 "nbformat": 4,
 "nbformat_minor": 0
}