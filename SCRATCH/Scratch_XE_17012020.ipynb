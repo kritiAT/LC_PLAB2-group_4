{
 "cells": [
  {
   "cell_type": "markdown",
   "id": "0f43ed4b",
   "metadata": {},
   "source": [
    "### Scratch code to learn how to perform a query on Blast using HTTP and request module"
   ]
  },
  {
   "cell_type": "markdown",
   "id": "708708f2",
   "metadata": {},
   "source": [
    "#### The following links are relevant for the code:\n",
    "- #### https://www.youtube.com/watch?v=0pRvEDS6Afw\n",
    "- #### https://ncbi.github.io/blast-cloud/dev/api.html\n",
    "- #### https://www.ncbi.nlm.nih.gov/home/develop/https-guidance/\n",
    "- #### https://it.python-requests.org/it/latest/user/quickstart.html\n",
    "- #### https://docs.python-requests.org/en/master/user/quickstart/#json-response-content\n",
    "\n",
    "#### NB! Another possibility would be to use the Biopytjon package instead that request:\n",
    "http://biopython.org/DIST/docs/tutorial/Tutorial.html#sec123\n",
    "\n",
    "https://biopython.org/docs/dev/api/Bio.Blast.Applications.html\n",
    "\n",
    "https://www.google.com/search?q=biopython+to+blast+a+sequence&rlz=1C1CHBF_itIT986IT986&sxsrf=AOaemvLzEwA-S0thjc08kkD3lqnwgGlbHQ%3A1642331757555&ei=bf7jYcS7IfeI9u8P6qKPiA4&ved=0ahUKEwiEpozIkrb1AhV3hP0HHWrRA-EQ4dUDCA4&uact=5&oq=biopython+to+blast+a+sequence&gs_lcp=Cgdnd3Mtd2l6EAMyCAghEBYQHRAeOgYIABAWEB46BQghEKABOgQIIRAKSgQIQRgASgQIRhgAUABYsiNgzCVoAXACeACAAeoBiAGqGpIBBTAuOC45mAEAoAEBwAEB&sclient=gws-wiz#kpvalbx=_f_7jYb3FHK2O9u8PgJia8AY16\n",
    "\n",
    "https://www.biostars.org/p/259099/\n"
   ]
  },
  {
   "cell_type": "code",
   "execution_count": 14,
   "id": "7f10daca",
   "metadata": {},
   "outputs": [],
   "source": [
    "import os\n",
    "import re\n",
    "import requests\n",
    "import re\n",
    "\n",
    "URL = \"https://blast.ncbi.nlm.nih.gov/Blast.cgi?\"\n",
    "\n",
    "# Requests\n",
    "\n",
    "PUT_Request = \"CMD=put&\"\n",
    "GET_Request = \"CMD=get&\"\n",
    "\n",
    "# PUT Parameters\n",
    "Query = \"QUERY=P22303&\"\n",
    "Program = \"PROGRAM=blastp&\"\n",
    "Database = \"DATABASE=pdb\"\n",
    "\n",
    "# GET Parameters\n",
    "RID = \"RID=\"\n",
    "\n",
    "PUT_query = URL+PUT_Request+Query+Program+Database\n",
    "\n",
    "def extract_attribute(put_response, rid_attr):\n",
    "    \"\"\" will go line by line through a file, searching for mentions of the rid_attribute and extract/return the value \n",
    "    associated with it \"\"\"\n",
    "    for line in put_response.splitlines():\n",
    "        if rid_attr in line:\n",
    "            # print(line)\n",
    "            attribute_value = re.sub(rid_attr, \"\", line)\n",
    "            attribute_value = re.sub(r\"\\s\", \"\", rid_attr)\n",
    "            return attribute_value"
   ]
  },
  {
   "cell_type": "code",
   "execution_count": 6,
   "id": "5f36c46d",
   "metadata": {},
   "outputs": [],
   "source": [
    "# 1. HTTP query to obtain back a RID (# An RID is like a ticket number that allows you to retrieve your search results and format \n",
    "#them in many different ways over the next 24 hours.)\n",
    "\n",
    "p = requests.put(PUT_query)\n",
    "rid = extract_attribute(p.text, \"RID = \")"
   ]
  },
  {
   "cell_type": "code",
   "execution_count": 16,
   "id": "9247216f",
   "metadata": {},
   "outputs": [],
   "source": [
    "# 2. Check the status of the Blast\n",
    "\n",
    "GET_query = URL+ GET_Request + RID + rid \n",
    "s = requests.get(GET_query)\n",
    "\n",
    "# ... TO DO: need to understand how to extract the status from it (a \"READY\" status indicate that the blast search was completed \n",
    "#and results are available for access)"
   ]
  },
  {
   "cell_type": "code",
   "execution_count": 17,
   "id": "331aa3cc",
   "metadata": {},
   "outputs": [],
   "source": []
  },
  {
   "cell_type": "code",
   "execution_count": null,
   "id": "3e940a44",
   "metadata": {},
   "outputs": [],
   "source": []
  }
 ],
 "metadata": {
  "kernelspec": {
   "display_name": "Python 3 (ipykernel)",
   "language": "python",
   "name": "python3"
  },
  "language_info": {
   "codemirror_mode": {
    "name": "ipython",
    "version": 3
   },
   "file_extension": ".py",
   "mimetype": "text/x-python",
   "name": "python",
   "nbconvert_exporter": "python",
   "pygments_lexer": "ipython3",
   "version": "3.9.7"
  }
 },
 "nbformat": 4,
 "nbformat_minor": 5
}
