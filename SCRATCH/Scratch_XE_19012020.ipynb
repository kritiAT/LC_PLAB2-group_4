{
 "cells": [
  {
   "cell_type": "markdown",
   "id": "ecd1fbd9",
   "metadata": {},
   "source": [
    "### Scratch code to learn how to perform a query on Blast using HTTP and request module"
   ]
  },
  {
   "cell_type": "markdown",
   "id": "59121296",
   "metadata": {},
   "source": [
    "#### The following links are relevant for the code:\n",
    "- #### https://www.youtube.com/watch?v=0pRvEDS6Afw\n",
    "- #### https://ncbi.github.io/blast-cloud/dev/api.html\n",
    "- #### https://www.ncbi.nlm.nih.gov/home/develop/https-guidance/\n",
    "- #### https://it.python-requests.org/it/latest/user/quickstart.html\n",
    "- #### https://docs.python-requests.org/en/master/user/quickstart/#json-response-content\n",
    "\n",
    "#### NB! Another possibility would be to use the Biopytjon package instead that request:\n",
    "http://biopython.org/DIST/docs/tutorial/Tutorial.html#sec123\n",
    "\n",
    "https://biopython.org/docs/dev/api/Bio.Blast.Applications.html\n",
    "\n",
    "https://www.google.com/search?q=biopython+to+blast+a+sequence&rlz=1C1CHBF_itIT986IT986&sxsrf=AOaemvLzEwA-S0thjc08kkD3lqnwgGlbHQ%3A1642331757555&ei=bf7jYcS7IfeI9u8P6qKPiA4&ved=0ahUKEwiEpozIkrb1AhV3hP0HHWrRA-EQ4dUDCA4&uact=5&oq=biopython+to+blast+a+sequence&gs_lcp=Cgdnd3Mtd2l6EAMyCAghEBYQHRAeOgYIABAWEB46BQghEKABOgQIIRAKSgQIQRgASgQIRhgAUABYsiNgzCVoAXACeACAAeoBiAGqGpIBBTAuOC45mAEAoAEBwAEB&sclient=gws-wiz#kpvalbx=_f_7jYb3FHK2O9u8PgJia8AY16\n",
    "\n",
    "https://www.biostars.org/p/259099/\n"
   ]
  },
  {
   "cell_type": "markdown",
   "id": "ac73665d",
   "metadata": {},
   "source": [
    "## 1. Importing modules and defining the queries (save in a file named constants.py)"
   ]
  },
  {
   "cell_type": "code",
   "execution_count": 4,
   "id": "f66edaaf",
   "metadata": {},
   "outputs": [],
   "source": [
    "import os\n",
    "import re\n",
    "import requests\n",
    "import time\n",
    "\n",
    "URL = \"https://blast.ncbi.nlm.nih.gov/Blast.cgi?\"     # url endpoint\n",
    "\n",
    "# Requests\n",
    "\n",
    "PUT_Request = \"CMD=put&\"\n",
    "GET_Request = \"CMD=get&\"\n",
    "\n",
    "# PUT Parameters\n",
    "Query = \"QUERY=P22303&\"\n",
    "Program = \"PROGRAM=blastp&\"\n",
    "Database = \"DATABASE=pdb\"\n",
    "\n",
    "# GET Parameters\n",
    "RID = \"RID = \"\n",
    "\n",
    "# Put query\n",
    "PUT_query = URL + PUT_Request + Query + Program + Database\n",
    "\n",
    "GET_query_head = URL+ GET_Request + \"RID=\"\n",
    "url_request_head = URL+'CMD=Get&FORMAT_OBJECT=SearchInfo&RID='"
   ]
  },
  {
   "cell_type": "markdown",
   "id": "f76d513d",
   "metadata": {},
   "source": [
    "## 2. Defining the functions (save in a file named API_functions.py)"
   ]
  },
  {
   "cell_type": "code",
   "execution_count": 11,
   "id": "7d4de4a6",
   "metadata": {},
   "outputs": [],
   "source": [
    "def extract_attribute(put_response, rid_attr):\n",
    "    \"\"\" will go line by line through a file, searching for mentions of the rid_attribute and extract/return the value \n",
    "    associated with it \"\"\"\n",
    "    for line in put_response.splitlines():\n",
    "        if rid_attr in line:\n",
    "            attribute_value = re.sub(rid_attr, \"\", line)\n",
    "            attribute_value=\"\".join(attribute_value.split())\n",
    "            return attribute_value\n",
    "        \n",
    "def check_request_status(GET_query, url_submit):\n",
    "    \"\"\" Check the status ID and when ready download the results as html file\"\"\"\n",
    "    # Submit the request of the status:\n",
    "    submit_request = requests.put(url_submit)\n",
    "    query_status = extract_attribute(submit_request.text, \"Status=\")\n",
    "    \n",
    "    if query_status=='WAITING':\n",
    "        time.sleep(30)                               # need to wait as required by the policy of Blast API \n",
    "        check_request_status(GET_query, url_submit)  # submit another request of status after 30 sec\n",
    "        \n",
    "    else:        \n",
    "        print(\"Done!\")     # The status is READY\n",
    "        \n",
    "        # Save the Submit result\n",
    "        \n",
    "        with open(\"results_trial.html\", \"w\") as file_handle:\n",
    "            s = requests.get(GET_query)\n",
    "            file_handle.write(s.text)\n",
    "            \n",
    "        #query_hits = extract_attribute(submit_request.text, \"ThereAreHits=\")\n",
    "        \n",
    "        return #query_status , query_hits"
   ]
  },
  {
   "cell_type": "markdown",
   "id": "23039bee",
   "metadata": {},
   "source": [
    "## 3. Run the code"
   ]
  },
  {
   "cell_type": "code",
   "execution_count": 8,
   "id": "cd9bc951",
   "metadata": {},
   "outputs": [],
   "source": [
    "# 1. HTTP query \n",
    "p = requests.put(PUT_query)\n"
   ]
  },
  {
   "cell_type": "code",
   "execution_count": 12,
   "id": "85e212d5",
   "metadata": {},
   "outputs": [
    {
     "name": "stdout",
     "output_type": "stream",
     "text": [
      "Done!\n"
     ]
    }
   ],
   "source": [
    "# 2. It is necessary to get the RID (= Request ID, allows you to retrieve your search results and format them in many different \n",
    "#ways over the next 24 hours.)\n",
    "\n",
    "rid = extract_attribute(p.text, RID)\n",
    "\n",
    "# 3. Check the status of the Blast using the RID and when it's ready save the results as html\n",
    "\n",
    "GET_query = GET_query_head + rid \n",
    "url_submit = url_request_head + rid \n",
    "\n",
    "check_request_status(GET_query, url_submit)"
   ]
  },
  {
   "cell_type": "code",
   "execution_count": null,
   "id": "b42f8602",
   "metadata": {},
   "outputs": [],
   "source": []
  },
  {
   "cell_type": "markdown",
   "id": "9d3be715",
   "metadata": {},
   "source": [
    "# TO DO: submit a query specific for our task"
   ]
  },
  {
   "cell_type": "code",
   "execution_count": null,
   "id": "7e226b94",
   "metadata": {},
   "outputs": [],
   "source": []
  }
 ],
 "metadata": {
  "kernelspec": {
   "display_name": "Python 3 (ipykernel)",
   "language": "python",
   "name": "python3"
  },
  "language_info": {
   "codemirror_mode": {
    "name": "ipython",
    "version": 3
   },
   "file_extension": ".py",
   "mimetype": "text/x-python",
   "name": "python",
   "nbconvert_exporter": "python",
   "pygments_lexer": "ipython3",
   "version": "3.9.7"
  }
 },
 "nbformat": 4,
 "nbformat_minor": 5
}