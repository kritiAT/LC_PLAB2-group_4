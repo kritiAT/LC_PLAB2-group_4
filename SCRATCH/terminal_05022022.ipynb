{
 "cells": [
  {
   "cell_type": "code",
   "execution_count": null,
   "id": "8c9243e6",
   "metadata": {},
   "outputs": [],
   "source": [
    "from Blast import *"
   ]
  },
  {
   "cell_type": "code",
   "execution_count": 41,
   "id": "12ab7e09",
   "metadata": {},
   "outputs": [],
   "source": [
    "import re\n",
    "import requests\n",
    "import time\n",
    "from utils import * # URL, PUT_Request, GET_Request, Program, Database_PDB, RID, GET_query_head, url_request_head, DATA_CACHE\n",
    "from pathlib import Path\n",
    "import os\n",
    "\n",
    "# Debug/auxiliary functions:\n",
    "\n",
    "def _check_query (seq, program=Program, database = Database_PDB, filters=\"\", email=\"\"):\n",
    "    \n",
    "    \"\"\" Function for printing the query to submit. Use for debug purpose\"\"\"\n",
    "    \n",
    "    Query = \"QUERY=\"+ seq + \"&\"\n",
    "    PUT_query = URL + PUT_Request + Query + Program + Database_PDB + filters + email \n",
    "    print (PUT_query) \n",
    "    return PUT_query\n",
    "\n",
    "def _clean_cache (file=None):\n",
    "    \n",
    "    \"\"\" Delete all the cached files in the cache directory. Is possible to specify which file to delete selectively\"\"\"\n",
    "    \n",
    "    for f in os.listdir(DATA_CACHE):\n",
    "        if file==None:\n",
    "            os.remove(os.path.join(DATA_CACHE, f))\n",
    "        else:\n",
    "            os.remove(os.path.join(DATA_CACHE, file) )\n",
    "    return    \n",
    "\n",
    "################################################################################################################\n",
    "\n",
    "# Main functions:\n",
    "\n",
    "def query_Blast (seq, program =Program, database = Database_PDB, filters=\"\", email=\"\", debug_mode=False):\n",
    "    \n",
    "    \"\"\" Submit a PUT query to Blast and return the response object\"\"\"\n",
    "    \n",
    "    Query = \"QUERY=\"+ seq + \"&\"\n",
    "    PUT_query = URL + PUT_Request + Query + Program + Database_PDB + filters + email \n",
    "    if debug_mode==True:\n",
    "        print (PUT_query) \n",
    "    p = requests.put(PUT_query) # Submit the request to the BLAST site\n",
    "    return p\n",
    "    \n",
    "\n",
    "def extract_attribute(p, rid_attr=RID):\n",
    "    \n",
    "    \"\"\" will go line by line through a file, searching for mentions of the rid_attribute and extract/return the value \n",
    "    associated with it.\n",
    "    \"\"\"\n",
    "    put_response = p.text # get html/text file\n",
    "    for line in put_response.splitlines():\n",
    "        if rid_attr in line:\n",
    "            attribute_value = re.sub(rid_attr, \"\", line)\n",
    "            attribute_value=\"\".join(attribute_value.split())\n",
    "            return attribute_value\n",
    "        \n",
    "def check_request_status(rid):\n",
    "    \n",
    "    \"\"\" Check the status ID and when ready download the results as html file\"\"\"\n",
    "    \n",
    "    url_submit = URL +'CMD=Get&ORMAT_OBJECT=SearchInfo&RID=' + rid  \n",
    "    # Submit the request of the status:\n",
    "    submit_request = requests.get(url_submit) # original: put --> Maybe is get??\n",
    "    query_status = extract_attribute(submit_request, \"Status=\")\n",
    "    return query_status\n",
    "\n",
    "\n",
    "def get_results (rid, response_format = \"html\"):\n",
    "    \n",
    "    \"\"\"Once the status of the request is ready, it is possible to get the results of the query in html or json.zip format\"\"\"\n",
    "    \n",
    "    if response_format == \"html\":           # DEFAULT\n",
    "        GET_query = GET_query_head + rid                         # /CMD=get&RID=rid\"\n",
    "    elif response_format == \"json\":\n",
    "        GET_query = GET_query_head + rid + \"&FORMAT_TYPE=JSON2\"  # /CMD=get&RID=rid&FORMAT_TYPE=JSON2\"\"   \n",
    "    s = requests.get(GET_query)\n",
    "    if not s.ok:\n",
    "        print (f\"{GET_query} returned bad status code: {s.status_code}\") \n",
    "        return \n",
    "    else:\n",
    "        print (GET_query)\n",
    "        return s\n",
    "    \n",
    "def download_html_file( s, filename = \"temporary.html\"):\n",
    "    \n",
    "    \"\"\"Given the result of a request (s) with html content, save it in a file stored in the home directory.\"\"\"\n",
    "    \n",
    "    assert filename.lower().endswith('.html'), print (\"save with html file extentions\")\n",
    "    path = os.path.join(DATA_CACHE, filename) \n",
    "    \n",
    "    with open(path, \"w\") as file_handle:\n",
    "        file_handle.write(s.text)\n",
    "        print (f\"The html results have been saved in the home folder as {filename}\")\n",
    "    return path\n",
    "\n",
    "\n",
    "def download_zip_json_file (s, filename = \"temporary.zip\" ):\n",
    "    \n",
    "    \"\"\"Given the results of a request (s) with zipped json content, save it in a file stored in the home directory.\"\"\"\n",
    "\n",
    "    path = os.path.join(DATA_CACHE, filename) \n",
    "    \n",
    "    with open(path, 'wb') as file_handle:  # write the zip file\n",
    "        file_handle.write(s.content)\n",
    "        print (f\"The zip/json results have been saved in the home folder as {filename}\")\n",
    "    return path\n",
    "\n",
    "\n",
    "def html_reader(filepath):\n",
    "    \n",
    "    \"\"\"Read an html file and returns the list of accessions IDs\"\"\" \n",
    "    \n",
    "    assert filepath.lower().endswith('.html'), print (\"accept only html files\")\n",
    "    with open (filepath,\"r\") as f:\n",
    "        list_accessions =[]\n",
    "        for line in f.readlines():\n",
    "            if \"<tr id=\" in line:\n",
    "                i = line.index(\"<tr id=\")\n",
    "                i2 = line.index (\"ind=\")\n",
    "                accession = (line [i+12:i2-2])\n",
    "                list_accessions.append(accession)\n",
    "    return list_accessions\n",
    "\n",
    "\n",
    "def zip_reader (filepath):\n",
    "    \n",
    "    \"\"\"Extract a zip json file and returns the list of accessions IDs\"\"\"\n",
    "    \n",
    "    from zipfile import ZipFile\n",
    "    import json\n",
    "    assert filepath.lower().endswith('.zip'), print (\"accept only zip files\")\n",
    "    \n",
    "    list_accessions = []\n",
    "    zf = ZipFile(filepath)           # convert the zip file to a python object\n",
    "    for filename in zf.namelist():  \n",
    "        if \"_\" in filename:          # Take only the file with the results\n",
    "            with zf.open(filename) as f:  \n",
    "                data = f.read()  \n",
    "                d = json.loads(data)   \n",
    "                list_of_hits = d[\"BlastOutput2\"]['report']['results']['search']['hits']\n",
    "                for e in list_of_hits:\n",
    "                    ID = e['description'][0][\"id\"]\n",
    "                    list_accessions.append(ID)         \n",
    "    return list_accessions    \n",
    "\n",
    "\n",
    "def is_html(output_file):\n",
    "    \n",
    "    \"\"\"Assess that the output file is in html format.\"\"\"\n",
    "    assert output_file[-4:]==\"html\", print (\"Save the results in html file format!\")\n",
    "    \n",
    "\n",
    "def Blast_sequence (seq, filename = \"temporary\", file_type=\"html\", keep_files = True):\n",
    "    \n",
    "    \"\"\"seq: sequence to blast, filename: name of the output file\"\"\"\n",
    "    \n",
    "    p = query_Blast (seq)                  # Submit the request to the BLAST site\n",
    "    rid = extract_attribute (p, RID)       # Extract the request ID (rid) that will be used for next steps\n",
    "    while True:\n",
    "        Status = check_request_status(rid)\n",
    "        if Status == 'READY': \n",
    "            print(\"The staus is ready\")\n",
    "            break\n",
    "        else:\n",
    "            print(\"Will wait and check in 60 seconds\")  \n",
    "            time.sleep(60)                              # Do not poll for any single RID more often than once a minute. \n",
    "    s = get_results (rid, response_format = file_type)        \n",
    "    print (\"The sequence was succesfully aligned!\")\n",
    "    if file_type==\"json\":\n",
    "        filename = filename + \".zip\"\n",
    "        path = download_zip_json_file (s, filename) # save the zip/json file\n",
    "        list_matches = zip_reader (path)            # extract the hits IDs\n",
    "    else:\n",
    "        filename = filename + \".html\"\n",
    "        path = download_html_file (s, filename)    # save the zip/json file\n",
    "        list_matches = html_reader (path)          # extract the hits IDs\n",
    "        \n",
    "    if keep_files == False:                        # delete the result files\n",
    "        os.remove(path) \n",
    "    return list_matches\n",
    "    \n",
    "def Blast_orfs (OrfList, filename = \"temporary\", file_type = \"html\", keep_files = True):\n",
    "    \n",
    "    \"\"\"Given a list of orfs it blast them against pdb database and return a dictionary with the orf as key and the list of\n",
    "    alignments as value\"\"\"\n",
    "    \n",
    "    n=0\n",
    "    dict_matches={}\n",
    "    for orf in OrfList:\n",
    "        n+=1\n",
    "        file_name = \"orf\"+ str(n) + \"_\" + filename\n",
    "        list_matches = Blast_sequence (orf, file_name, file_type, keep_files)\n",
    "        dict_matches[orf] = list_matches\n",
    "        time.sleep(10)                 # Do not contact the server more often than once every 10 seconds.\n",
    "    print (\"The job is complete for all the sequences!\")\n",
    "    return dict_matches\n",
    "        "
   ]
  },
  {
   "cell_type": "markdown",
   "id": "8afb7ebf",
   "metadata": {},
   "source": [
    "# Check single functions"
   ]
  },
  {
   "cell_type": "code",
   "execution_count": 3,
   "id": "38e82b5c",
   "metadata": {},
   "outputs": [],
   "source": [
    "ORF1 = \"VHLTPEEKSAVTALWGKVNVDEVGGEALGRLLVVYPWTQRFFESFGDLSTPDAVMGNPKVKAHGKKVLG\"\n",
    "r = query_Blast(ORF1)"
   ]
  },
  {
   "cell_type": "code",
   "execution_count": 4,
   "id": "13fe0885",
   "metadata": {},
   "outputs": [
    {
     "name": "stdout",
     "output_type": "stream",
     "text": [
      "ZXBMDPF4016\n",
      "Will wait and check in 60 seconds\n",
      "Will wait and check in 60 seconds\n",
      "Will wait and check in 60 seconds\n",
      "The staus is ready\n"
     ]
    }
   ],
   "source": [
    "rid = extract_attribute (r) # ZXBMDPF4016\n",
    "print (rid)\n",
    "while True:\n",
    "    Status = check_request_status(rid)\n",
    "    if Status == 'READY': \n",
    "        print(\"The staus is ready\")\n",
    "        break\n",
    "    else:\n",
    "        print(\"Will wait and check in 60 seconds\")  \n",
    "        time.sleep(60)                              # Do not poll for any single RID more often than once a minute. "
   ]
  },
  {
   "cell_type": "markdown",
   "id": "4ed685f9",
   "metadata": {},
   "source": [
    "### Test with html response"
   ]
  },
  {
   "cell_type": "code",
   "execution_count": 21,
   "id": "42c2a2e5",
   "metadata": {},
   "outputs": [
    {
     "name": "stdout",
     "output_type": "stream",
     "text": [
      "https://blast.ncbi.nlm.nih.gov/Blast.cgi?CMD=get&RID=ZXBMDPF4016\n"
     ]
    }
   ],
   "source": [
    "r = get_results(rid)    # ZXBMDPF4016"
   ]
  },
  {
   "cell_type": "code",
   "execution_count": 18,
   "id": "2dd9c9b4",
   "metadata": {},
   "outputs": [
    {
     "name": "stdout",
     "output_type": "stream",
     "text": [
      "The html results have been saved in the home folder as temporary.html\n",
      "['1CH4_A', '1Y85_B', '2YRS_B']\n"
     ]
    }
   ],
   "source": [
    "path = download_html_file (r)\n",
    "list_accessions = html_reader(path)\n",
    "print (list_accessions[:3])"
   ]
  },
  {
   "cell_type": "markdown",
   "id": "1f60c5b3",
   "metadata": {},
   "source": [
    "### Test with zip response"
   ]
  },
  {
   "cell_type": "code",
   "execution_count": 22,
   "id": "fa97d608",
   "metadata": {},
   "outputs": [
    {
     "name": "stdout",
     "output_type": "stream",
     "text": [
      "https://blast.ncbi.nlm.nih.gov/Blast.cgi?CMD=get&RID=ZXBMDPF4016&FORMAT_TYPE=JSON2\n"
     ]
    }
   ],
   "source": [
    "z = get_results(rid, \"json\")    # ZXBMDPF4016"
   ]
  },
  {
   "cell_type": "code",
   "execution_count": 31,
   "id": "e7d7b6d8",
   "metadata": {},
   "outputs": [
    {
     "name": "stdout",
     "output_type": "stream",
     "text": [
      "The zip/json results have been saved in the home folder as temporary.zip\n",
      "['pdb|1CH4|A', 'pdb|1Y85|B', 'pdb|2YRS|B']\n"
     ]
    }
   ],
   "source": [
    "path_json = download_zip_json_file (z)\n",
    "list_accessions = zip_reader(path_json)\n",
    "print (list_accessions[:3])"
   ]
  },
  {
   "cell_type": "markdown",
   "id": "4d3d8445",
   "metadata": {},
   "source": [
    "# Check wrap up functions"
   ]
  },
  {
   "cell_type": "code",
   "execution_count": 35,
   "id": "8007d370",
   "metadata": {},
   "outputs": [
    {
     "name": "stdout",
     "output_type": "stream",
     "text": [
      "Will wait and check in 60 seconds\n",
      "The staus is ready\n",
      "https://blast.ncbi.nlm.nih.gov/Blast.cgi?CMD=get&RID=ZXYB8GC0016\n",
      "The sequence was succesfully aligned!\n",
      "The html results have been saved in the home folder as temporary.html\n"
     ]
    }
   ],
   "source": [
    "ORF1 = \"VHLTPEEKSAVTALWGKVNVDEVGGEALGRLLVVYPWTQRFFESFGDLSTPDAVMGNPKVKAHGKKVLG\"\n",
    "list_matches = Blast_sequence (ORF1)"
   ]
  },
  {
   "cell_type": "code",
   "execution_count": 39,
   "id": "6749e4f2",
   "metadata": {},
   "outputs": [
    {
     "name": "stdout",
     "output_type": "stream",
     "text": [
      "Will wait and check in 60 seconds\n",
      "Will wait and check in 60 seconds\n",
      "Will wait and check in 60 seconds\n",
      "Will wait and check in 60 seconds\n",
      "Will wait and check in 60 seconds\n",
      "Will wait and check in 60 seconds\n",
      "The staus is ready\n",
      "https://blast.ncbi.nlm.nih.gov/Blast.cgi?CMD=get&RID=ZXYR1WWK016\n",
      "The sequence was succesfully aligned!\n",
      "The html results have been saved in the home folder as prova.html\n"
     ]
    }
   ],
   "source": [
    "list_matches = Blast_sequence (ORF1, \"prova\")"
   ]
  },
  {
   "cell_type": "code",
   "execution_count": 40,
   "id": "11829aad",
   "metadata": {},
   "outputs": [
    {
     "name": "stdout",
     "output_type": "stream",
     "text": [
      "Will wait and check in 60 seconds\n",
      "Will wait and check in 60 seconds\n",
      "Will wait and check in 60 seconds\n",
      "The staus is ready\n",
      "https://blast.ncbi.nlm.nih.gov/Blast.cgi?CMD=get&RID=ZXZ6YT4X013&FORMAT_TYPE=JSON2\n",
      "The sequence was succesfully aligned!\n",
      "The zip/json results have been saved in the home folder as prova.zip\n"
     ]
    }
   ],
   "source": [
    "list_matches = Blast_sequence (ORF1, \"prova\", file_type = \"json\" )"
   ]
  },
  {
   "cell_type": "code",
   "execution_count": 42,
   "id": "5ddf36fb",
   "metadata": {},
   "outputs": [
    {
     "name": "stdout",
     "output_type": "stream",
     "text": [
      "Will wait and check in 60 seconds\n",
      "Will wait and check in 60 seconds\n",
      "Will wait and check in 60 seconds\n",
      "Will wait and check in 60 seconds\n",
      "Will wait and check in 60 seconds\n",
      "Will wait and check in 60 seconds\n",
      "The staus is ready\n",
      "https://blast.ncbi.nlm.nih.gov/Blast.cgi?CMD=get&RID=ZXZN1PTC013\n",
      "The sequence was succesfully aligned!\n",
      "The html results have been saved in the home folder as orf1_final.html\n",
      "Will wait and check in 60 seconds\n",
      "Will wait and check in 60 seconds\n",
      "Will wait and check in 60 seconds\n",
      "Will wait and check in 60 seconds\n",
      "Will wait and check in 60 seconds\n",
      "Will wait and check in 60 seconds\n",
      "Will wait and check in 60 seconds\n",
      "Will wait and check in 60 seconds\n",
      "Will wait and check in 60 seconds\n",
      "The staus is ready\n",
      "https://blast.ncbi.nlm.nih.gov/Blast.cgi?CMD=get&RID=ZY01436G013\n",
      "The sequence was succesfully aligned!\n",
      "The html results have been saved in the home folder as orf2_final.html\n",
      "The job is complete for all the sequences!\n"
     ]
    }
   ],
   "source": [
    "ORF1 = \"VHLTPEEKSAVTALWGKVNVDEVGGEALGRLLVVYPWTQRFFESFGDLSTPDAVMGNPKVKAHGKKVLG\" # B globin\n",
    "ORF2 = \"QGIINFEQKESNGPVKVWGSIKGLTEGLHGFHVHEFGDNTAGCTSAGPHFNPLSRKHGGPKDEERHVGD\" # SOD1\n",
    "ORFs= [ORF1, ORF2]\n",
    "dict_matches= Blast_orfs (ORFs, filename = \"final\", keep_files = False)"
   ]
  },
  {
   "cell_type": "code",
   "execution_count": null,
   "id": "437957a3",
   "metadata": {},
   "outputs": [],
   "source": []
  }
 ],
 "metadata": {
  "kernelspec": {
   "display_name": "Python 3 (ipykernel)",
   "language": "python",
   "name": "python3"
  },
  "language_info": {
   "codemirror_mode": {
    "name": "ipython",
    "version": 3
   },
   "file_extension": ".py",
   "mimetype": "text/x-python",
   "name": "python",
   "nbconvert_exporter": "python",
   "pygments_lexer": "ipython3",
   "version": "3.9.7"
  }
 },
 "nbformat": 4,
 "nbformat_minor": 5
}
