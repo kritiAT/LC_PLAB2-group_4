{
 "cells": [
  {
   "cell_type": "code",
   "execution_count": 88,
   "metadata": {
    "collapsed": true
   },
   "outputs": [],
   "source": [
    "import numpy as np\n",
    "from itertools import combinations\n",
    "from copy import deepcopy"
   ]
  },
  {
   "cell_type": "markdown",
   "source": [
    "# dna sequence. make_kmers, dna_seq_kmers_random"
   ],
   "metadata": {
    "collapsed": false
   }
  },
  {
   "cell_type": "code",
   "execution_count": 60,
   "outputs": [
    {
     "data": {
      "text/plain": "675"
     },
     "execution_count": 60,
     "metadata": {},
     "output_type": "execute_result"
    }
   ],
   "source": [
    "dna_sequence= 'CTTTATTTTCACCACAAACAGAGATTAAAGAAAGTGTTGGATTAAAAGATGGTGTTAAAGAGTAAAAATTGACTTATTATACTCCTGAATACGAAACCAAAGATACTGATATCTTGGCAGCATTCCGAGTAACTCCTCAACCTGGAGTTCCACCCGAAGAAGCAGGGGCCGCGGTAGCTGCCGAATCTTCTACCGGTACATGGACAAGTGTGTGGACCGATGGACTTACCAGCCTTGATCGTTACAAAGGGCGATGCTACCACATCGAGCCCGTTCCTGGAGAAGAAGAGCAATATATTGCTTATGTAGCTTACCCCTTAGACCTTTTTGAAGAAGGTTCTGTTACTAACATGTTTACTTCCATTGTAGGTAATGTATTTGGGTTCAAAGCCCTACGCGCTCTACGTCTGGAAGATTTGCGAATCCCTCCGGCTTATATTAAAACCTTCCAAGGCCCGCCTCATGGCATCCAGGTTGAGAGAGATAAATTGAACAAATATGGTCGTCCCCTGTTGGGATGTACTATTAAACCTAAATTGGGGTTATCCGCTAAAAACTACGGTAGGGCATGTTATGAATGTCTTCGTGGTGGACTTGATTTTACCAAAGATGATGAAAACGTGAACTCCCAACCGTTTATGCGTTGGAGAGATCGATTCTTATTTGTAGCAAAAA'\n",
    "\n",
    "len(dna_sequence)"
   ],
   "metadata": {
    "collapsed": false,
    "pycharm": {
     "name": "#%%\n"
    }
   }
  },
  {
   "cell_type": "code",
   "execution_count": 108,
   "outputs": [],
   "source": [
    "def kmers(seq,k):\n",
    "        kmer_dic={}\n",
    "        kmers_list = []\n",
    "        for i in range(len(seq)-(k-1)):\n",
    "                k_mer=seq[i:i+k]\n",
    "                kmers_list.append(k_mer)\n",
    "                if k_mer in kmer_dic:\n",
    "                        kmer_dic[k_mer]+=1\n",
    "                else:\n",
    "                        kmer_dic[k_mer]=1\n",
    "        return kmers_list"
   ],
   "metadata": {
    "collapsed": false,
    "pycharm": {
     "name": "#%%\n"
    }
   }
  },
  {
   "cell_type": "code",
   "execution_count": 124,
   "outputs": [
    {
     "data": {
      "text/plain": "['CTTTATTTTCACCACAAACAGAGATTAAAGAAAGTGTTGGATTAAAAGATGGTGTTAAAGAGTAAAAATTGACTTATTATACTCCTGAATACGAAACCAAAGATACTGATATCTTGGCAGCATTCCGAGTAACTCCTCAACCTGGAGTTCCACCCGAAGAAGCAGGGGCCGCGGTAGCTGCCGAATCTTCTACCGGTACATGGACAAGTGTGTGGACCGATGGACTTACCAGCCTTGATCGTTACAAAGGGCGATGCTACCACATCGAGCCCGTTCCTGGAGAAGAAGAGCAATATATTGCTTATGTAGCTTACCCCTTAGACCTTTTTGAAGAAGGTTCTGTTACTAACATGTTTACTTCCATTGTAGGTAATGTATTTGGGTTCAAAGCCCTACGCGCTCTACGTCTGGAAGATTTGCGAATCCCTCCGGCTTATATTAAAACCTTCCAAGGCCCGCCTCATGGCATCCAGGTTGAGAGAGATAAATTGAACAAATATGGTCGTCCCCTGTTGGGATGTACTATTAAACCTAAATTGGGGTTATCCGCTAAAAACTACGGTAGGGCATGTTATGAATGTCTTCGTGGTGGACTTGATTTTACCAAAGATGATGAAAACGTGAACTCCCAACCGTTTATGCGTTGGAGAGATCGATTCTTATTTGTAGC',\n 'TTTATTTTCACCACAAACAGAGATTAAAGAAAGTGTTGGATTAAAAGATGGTGTTAAAGAGTAAAAATTGACTTATTATACTCCTGAATACGAAACCAAAGATACTGATATCTTGGCAGCATTCCGAGTAACTCCTCAACCTGGAGTTCCACCCGAAGAAGCAGGGGCCGCGGTAGCTGCCGAATCTTCTACCGGTACATGGACAAGTGTGTGGACCGATGGACTTACCAGCCTTGATCGTTACAAAGGGCGATGCTACCACATCGAGCCCGTTCCTGGAGAAGAAGAGCAATATATTGCTTATGTAGCTTACCCCTTAGACCTTTTTGAAGAAGGTTCTGTTACTAACATGTTTACTTCCATTGTAGGTAATGTATTTGGGTTCAAAGCCCTACGCGCTCTACGTCTGGAAGATTTGCGAATCCCTCCGGCTTATATTAAAACCTTCCAAGGCCCGCCTCATGGCATCCAGGTTGAGAGAGATAAATTGAACAAATATGGTCGTCCCCTGTTGGGATGTACTATTAAACCTAAATTGGGGTTATCCGCTAAAAACTACGGTAGGGCATGTTATGAATGTCTTCGTGGTGGACTTGATTTTACCAAAGATGATGAAAACGTGAACTCCCAACCGTTTATGCGTTGGAGAGATCGATTCTTATTTGTAGCA',\n 'TTATTTTCACCACAAACAGAGATTAAAGAAAGTGTTGGATTAAAAGATGGTGTTAAAGAGTAAAAATTGACTTATTATACTCCTGAATACGAAACCAAAGATACTGATATCTTGGCAGCATTCCGAGTAACTCCTCAACCTGGAGTTCCACCCGAAGAAGCAGGGGCCGCGGTAGCTGCCGAATCTTCTACCGGTACATGGACAAGTGTGTGGACCGATGGACTTACCAGCCTTGATCGTTACAAAGGGCGATGCTACCACATCGAGCCCGTTCCTGGAGAAGAAGAGCAATATATTGCTTATGTAGCTTACCCCTTAGACCTTTTTGAAGAAGGTTCTGTTACTAACATGTTTACTTCCATTGTAGGTAATGTATTTGGGTTCAAAGCCCTACGCGCTCTACGTCTGGAAGATTTGCGAATCCCTCCGGCTTATATTAAAACCTTCCAAGGCCCGCCTCATGGCATCCAGGTTGAGAGAGATAAATTGAACAAATATGGTCGTCCCCTGTTGGGATGTACTATTAAACCTAAATTGGGGTTATCCGCTAAAAACTACGGTAGGGCATGTTATGAATGTCTTCGTGGTGGACTTGATTTTACCAAAGATGATGAAAACGTGAACTCCCAACCGTTTATGCGTTGGAGAGATCGATTCTTATTTGTAGCAA',\n 'TATTTTCACCACAAACAGAGATTAAAGAAAGTGTTGGATTAAAAGATGGTGTTAAAGAGTAAAAATTGACTTATTATACTCCTGAATACGAAACCAAAGATACTGATATCTTGGCAGCATTCCGAGTAACTCCTCAACCTGGAGTTCCACCCGAAGAAGCAGGGGCCGCGGTAGCTGCCGAATCTTCTACCGGTACATGGACAAGTGTGTGGACCGATGGACTTACCAGCCTTGATCGTTACAAAGGGCGATGCTACCACATCGAGCCCGTTCCTGGAGAAGAAGAGCAATATATTGCTTATGTAGCTTACCCCTTAGACCTTTTTGAAGAAGGTTCTGTTACTAACATGTTTACTTCCATTGTAGGTAATGTATTTGGGTTCAAAGCCCTACGCGCTCTACGTCTGGAAGATTTGCGAATCCCTCCGGCTTATATTAAAACCTTCCAAGGCCCGCCTCATGGCATCCAGGTTGAGAGAGATAAATTGAACAAATATGGTCGTCCCCTGTTGGGATGTACTATTAAACCTAAATTGGGGTTATCCGCTAAAAACTACGGTAGGGCATGTTATGAATGTCTTCGTGGTGGACTTGATTTTACCAAAGATGATGAAAACGTGAACTCCCAACCGTTTATGCGTTGGAGAGATCGATTCTTATTTGTAGCAAA',\n 'ATTTTCACCACAAACAGAGATTAAAGAAAGTGTTGGATTAAAAGATGGTGTTAAAGAGTAAAAATTGACTTATTATACTCCTGAATACGAAACCAAAGATACTGATATCTTGGCAGCATTCCGAGTAACTCCTCAACCTGGAGTTCCACCCGAAGAAGCAGGGGCCGCGGTAGCTGCCGAATCTTCTACCGGTACATGGACAAGTGTGTGGACCGATGGACTTACCAGCCTTGATCGTTACAAAGGGCGATGCTACCACATCGAGCCCGTTCCTGGAGAAGAAGAGCAATATATTGCTTATGTAGCTTACCCCTTAGACCTTTTTGAAGAAGGTTCTGTTACTAACATGTTTACTTCCATTGTAGGTAATGTATTTGGGTTCAAAGCCCTACGCGCTCTACGTCTGGAAGATTTGCGAATCCCTCCGGCTTATATTAAAACCTTCCAAGGCCCGCCTCATGGCATCCAGGTTGAGAGAGATAAATTGAACAAATATGGTCGTCCCCTGTTGGGATGTACTATTAAACCTAAATTGGGGTTATCCGCTAAAAACTACGGTAGGGCATGTTATGAATGTCTTCGTGGTGGACTTGATTTTACCAAAGATGATGAAAACGTGAACTCCCAACCGTTTATGCGTTGGAGAGATCGATTCTTATTTGTAGCAAAA',\n 'TTTTCACCACAAACAGAGATTAAAGAAAGTGTTGGATTAAAAGATGGTGTTAAAGAGTAAAAATTGACTTATTATACTCCTGAATACGAAACCAAAGATACTGATATCTTGGCAGCATTCCGAGTAACTCCTCAACCTGGAGTTCCACCCGAAGAAGCAGGGGCCGCGGTAGCTGCCGAATCTTCTACCGGTACATGGACAAGTGTGTGGACCGATGGACTTACCAGCCTTGATCGTTACAAAGGGCGATGCTACCACATCGAGCCCGTTCCTGGAGAAGAAGAGCAATATATTGCTTATGTAGCTTACCCCTTAGACCTTTTTGAAGAAGGTTCTGTTACTAACATGTTTACTTCCATTGTAGGTAATGTATTTGGGTTCAAAGCCCTACGCGCTCTACGTCTGGAAGATTTGCGAATCCCTCCGGCTTATATTAAAACCTTCCAAGGCCCGCCTCATGGCATCCAGGTTGAGAGAGATAAATTGAACAAATATGGTCGTCCCCTGTTGGGATGTACTATTAAACCTAAATTGGGGTTATCCGCTAAAAACTACGGTAGGGCATGTTATGAATGTCTTCGTGGTGGACTTGATTTTACCAAAGATGATGAAAACGTGAACTCCCAACCGTTTATGCGTTGGAGAGATCGATTCTTATTTGTAGCAAAAA']"
     },
     "execution_count": 124,
     "metadata": {},
     "output_type": "execute_result"
    }
   ],
   "source": [
    "dna_kmers = kmers(dna_sequence, 670)\n",
    "dna_kmers"
   ],
   "metadata": {
    "collapsed": false,
    "pycharm": {
     "name": "#%%\n"
    }
   }
  },
  {
   "cell_type": "code",
   "execution_count": 125,
   "outputs": [
    {
     "data": {
      "text/plain": "6"
     },
     "execution_count": 125,
     "metadata": {},
     "output_type": "execute_result"
    }
   ],
   "source": [
    "len(dna_kmers)"
   ],
   "metadata": {
    "collapsed": false,
    "pycharm": {
     "name": "#%%\n"
    }
   }
  },
  {
   "cell_type": "code",
   "execution_count": 79,
   "outputs": [
    {
     "data": {
      "text/plain": "['CTTTATTTTCACCACAAACAGAGATTAAAGAAAGTGTTGGATTAAAAGAT',\n 'AAACAGAGATTAAAGAAAGTGTTGGATTAAAAGATGGTGTTAAAGAGTAA',\n 'TAAAGAAAGTGTTGGATTAAAAGATGGTGTTAAAGAGTAAAAATTGACTT',\n 'AAGATGGTGTTAAAGAGTAAAAATTGACTTATTATACTCCTGAATACGAA',\n 'AGAGTAAAAATTGACTTATTATACTCCTGAATACGAAACCAAAGATACTG',\n 'TTGACTTATTATACTCCTGAATACGAAACCAAAGATACTGATATCTTGGC',\n 'ACTCCTGAATACGAAACCAAAGATACTGATATCTTGGCAGCATTCCGAGT',\n 'CTGATATCTTGGCAGCATTCCGAGTAACTCCTCAACCTGGAGTTCCACCC',\n 'CTCAACCTGGAGTTCCACCCGAAGAAGCAGGGGCCGCGGTAGCTGCCGAA',\n 'CACCCGAAGAAGCAGGGGCCGCGGTAGCTGCCGAATCTTCTACCGGTACA']"
     },
     "execution_count": 79,
     "metadata": {},
     "output_type": "execute_result"
    }
   ],
   "source": [
    "dna_kmers_random = [dna_kmers[0], dna_kmers[15], dna_kmers[25], dna_kmers[45], dna_kmers[58],\n",
    "                    dna_kmers[68], dna_kmers[80], dna_kmers[105], dna_kmers[135], dna_kmers[150]]\n",
    "\n",
    "dna_kmers_random"
   ],
   "metadata": {
    "collapsed": false,
    "pycharm": {
     "name": "#%%\n"
    }
   }
  },
  {
   "cell_type": "code",
   "execution_count": 63,
   "outputs": [],
   "source": [],
   "metadata": {
    "collapsed": false,
    "pycharm": {
     "name": "#%%\n"
    }
   }
  },
  {
   "cell_type": "markdown",
   "source": [
    "# pairwise alignment code\n",
    "(only SW)"
   ],
   "metadata": {
    "collapsed": false
   }
  },
  {
   "cell_type": "code",
   "execution_count": 64,
   "outputs": [],
   "source": [
    "def read_blosum(file):\n",
    "    with open(file, 'r') as f:\n",
    "        matrix = f.readlines()\n",
    "    del matrix[-1]\n",
    "    score_dic = {}  # dictionary to store scores of all the pairs\n",
    "    cols = matrix[0].split()\n",
    "    for line in range(1, len(matrix)):\n",
    "        entries = matrix[line].split()\n",
    "        row = entries[0]  # nucleotide\n",
    "        scores = entries[1:]  # scores\n",
    "        for score, col in zip(scores, cols):\n",
    "            key = ''.join(sorted((row, col)))\n",
    "            score_dic[key] = int(score)\n",
    "    return score_dic\n",
    "\n",
    "\n",
    "def pairwise_alignment(seq1, seq2, w, scoring, print_output=False):\n",
    "    \"\"\"Smith-Waterman local alignment\"\"\"\n",
    "    n = len(seq1)\n",
    "    m = len(seq2)\n",
    "\n",
    "    # INITIALIZE MATRIX\n",
    "    mat = np.zeros((n + 1, m + 1), dtype=int)\n",
    "    for j in range(m + 1):  # first row\n",
    "        mat[0, j] = j * w\n",
    "    for i in range(n + 1):  # first column\n",
    "        mat[i, 0] = i * w\n",
    "\n",
    "    # FILL MATRIX\n",
    "    for i in range(1, n + 1):\n",
    "        for j in range(1, m + 1):\n",
    "            pair = ''.join(sorted((seq1[i - 1], seq2[j - 1])))\n",
    "            diag = mat[i - 1, j - 1] + scoring[pair]\n",
    "            up = mat[i - 1, j] + w\n",
    "            left = mat[i, j - 1] + w\n",
    "            mat[i, j] = max(diag, up, left, 0)  # replacing all negative values with zero\n",
    "\n",
    "    alignment_score = np.amax(mat)\n",
    "\n",
    "    # TRACEBACK ALIGNMENT\n",
    "    alseq1 = ''\n",
    "    alseq2 = ''  # storing the gaps in alignment\n",
    "\n",
    "    max_index = np.where(mat == alignment_score)\n",
    "    i, j = max_index[0][0], max_index[1][0]  # starting from max value\n",
    "    while mat[i, j] != 0:\n",
    "        key = ''.join(sorted((seq1[i - 1], seq2[j - 1])))\n",
    "        diag_score = mat[i - 1, j - 1] + scoring[key]\n",
    "        up_score = mat[i - 1, j] + w\n",
    "        left_score = mat[i, j - 1] + w\n",
    "        # finding the direction of pointer from which the score was taken\n",
    "        if mat[i, j] == diag_score:\n",
    "            alseq1 += seq1[i - 1]\n",
    "            alseq2 += seq2[j - 1]\n",
    "            i -= 1\n",
    "            j -= 1\n",
    "        elif mat[i, j] == up_score:\n",
    "            alseq1 += seq1[i - 1]\n",
    "            alseq2 += '-'\n",
    "            i -= 1\n",
    "        elif mat[i, j] == left_score:\n",
    "            alseq1 += '-'\n",
    "            alseq2 += seq2[j - 1]\n",
    "            j -= 1\n",
    "        else:\n",
    "            raise Exception('This should never happen')\n",
    "\n",
    "    # correct order of string since we traced backwards\n",
    "    aligned_seq1 = alseq1[::-1]\n",
    "    aligned_seq2 = alseq2[::-1]\n",
    "\n",
    "    # for matching base pair at the start of a sequence\n",
    "    # for a match preceding the alignment at start of any one sequence\n",
    "    pos1 = seq1.find(aligned_seq1) - 1\n",
    "    pos2 = seq2.find(aligned_seq2) - 1\n",
    "\n",
    "    if seq1[pos1] == seq2[pos2]:\n",
    "        aligned_seq1 = seq1[pos1] + aligned_seq1\n",
    "        aligned_seq2 = seq2[pos2] + aligned_seq2\n",
    "        alignment_score += 1\n",
    "\n",
    "    # Alignment statistics\n",
    "    matches = ''\n",
    "    id_count = 0  # sequence identity count\n",
    "    ss_count = 0  # sequence similarity count\n",
    "    for aa1, aa2 in zip(aligned_seq1, aligned_seq2):\n",
    "        pair = ''.join(sorted((aa1, aa2)))\n",
    "        if aa1 == '-' or aa2 == '-':\n",
    "            matches += ' '\n",
    "        elif aa1 == aa2:\n",
    "            id_count += 1\n",
    "            matches += '|'\n",
    "        elif scoring[pair] >= 0:\n",
    "            ss_count += 1\n",
    "            matches += ':'\n",
    "        else:\n",
    "            matches += ' '\n",
    "\n",
    "    seq_identity = round(id_count / len(aligned_seq1) * 100, 2)\n",
    "    seq_similarity = round(ss_count / len(aligned_seq1) * 100, 2)\n",
    "\n",
    "    # FORMATTED OUTPUT\n",
    "    if print_output is True:\n",
    "        print(f'Alignment Score = {alignment_score}')\n",
    "        print(f'Sequence Identity = {seq_identity}%')\n",
    "        print(f'Sequence Similarity = {seq_similarity}%')\n",
    "\n",
    "        for i in range(0, len(aligned_seq1) - 1, 80):\n",
    "            print(aligned_seq1[i: i + 80])\n",
    "            print(matches[i: i + 80])\n",
    "            print(aligned_seq2[i: i + 80])\n",
    "            print()\n",
    "\n",
    "    return alignment_score, seq_identity, aligned_seq1\n"
   ],
   "metadata": {
    "collapsed": false,
    "pycharm": {
     "name": "#%%\n"
    }
   }
  },
  {
   "cell_type": "code",
   "execution_count": 65,
   "outputs": [
    {
     "data": {
      "text/plain": "{'AA': 1,\n 'AT': -4,\n 'AG': -4,\n 'AC': -4,\n 'TT': 1,\n 'GT': -4,\n 'CT': -4,\n 'GG': 1,\n 'CG': -4,\n 'CC': 1}"
     },
     "execution_count": 65,
     "metadata": {},
     "output_type": "execute_result"
    }
   ],
   "source": [
    "dna_scores = 'C:\\\\Users\\\\kriti\\\\Desktop\\\\SEM_3\\\\PLAB_II\\\\Group_Project\\\\Group_4_env\\\\Amin-plab-4_solution2\\\\dna_scores.txt'\n",
    "d_scores = read_blosum(dna_scores)\n",
    "d_scores"
   ],
   "metadata": {
    "collapsed": false,
    "pycharm": {
     "name": "#%%\n"
    }
   }
  },
  {
   "cell_type": "code",
   "execution_count": 103,
   "outputs": [
    {
     "name": "stdout",
     "output_type": "stream",
     "text": [
      "Alignment Score = 35\n",
      "Sequence Identity = 100.0%\n",
      "Sequence Similarity = 0.0%\n",
      "AAACAGAGATTAAAGAAAGTGTTGGATTAAAAGAT\n",
      "|||||||||||||||||||||||||||||||||||\n",
      "AAACAGAGATTAAAGAAAGTGTTGGATTAAAAGAT\n",
      "\n"
     ]
    },
    {
     "data": {
      "text/plain": "(35, 100.0, 'AAACAGAGATTAAAGAAAGTGTTGGATTAAAAGAT')"
     },
     "execution_count": 103,
     "metadata": {},
     "output_type": "execute_result"
    }
   ],
   "source": [
    "pairwise_alignment(seq1=dna_kmers_random[0], seq2=dna_kmers_random[1], w=-4, scoring=d_scores, print_output=True)"
   ],
   "metadata": {
    "collapsed": false,
    "pycharm": {
     "name": "#%%\n"
    }
   }
  },
  {
   "cell_type": "markdown",
   "source": [
    "# perform MSA and reconstruct the genomic sequence"
   ],
   "metadata": {
    "collapsed": false
   }
  },
  {
   "cell_type": "code",
   "execution_count": 67,
   "outputs": [],
   "source": [
    "def find_overlapping_ends(seq1, seq2, aligned_seq):\n",
    "    \"\"\"Find if aligned sequence is present at ends of both sequence.\n",
    "    Returns false if present in middle or if not present.\"\"\"\n",
    "    if seq1.startswith(aligned_seq) and seq2.endswith(aligned_seq):\n",
    "        return True\n",
    "    elif seq2.startswith(aligned_seq) and seq1.endswith(aligned_seq):\n",
    "        return True\n",
    "    else:\n",
    "        return False\n",
    "\n",
    "def merge_overlapping_ends(seq1, seq2, aligned_seq):\n",
    "    \"\"\"aligned seq should be present in both and ovelap at ends\"\"\"\n",
    "    ind1, ind2 = seq1.find(aligned_seq), seq2.find(aligned_seq)\n",
    "    assert ind1 != -1\n",
    "    assert ind2 != -1\n",
    "    if ind1 > ind2:\n",
    "        return seq1[:ind1]+seq2\n",
    "    elif ind2 > ind1:\n",
    "        return seq2[:ind2]+seq1"
   ],
   "metadata": {
    "collapsed": false,
    "pycharm": {
     "name": "#%%\n"
    }
   }
  },
  {
   "cell_type": "code",
   "execution_count": 104,
   "outputs": [],
   "source": [
    "def perform_msa(sequences, score_mat):\n",
    "    all_pairs = [(i,j) for i, j in combinations(sequences, 2)]\n",
    "    pairwise_scores = {}\n",
    "    # perform pairwise alignment of all sequences\n",
    "    for seq1, seq2 in all_pairs:\n",
    "        score, seq_id, alignment = pairwise_alignment(seq1=seq1, seq2=seq2, w=-4, scoring=score_mat)\n",
    "        pairwise_scores[(seq1, seq2)] = (seq_id, score, alignment)\n",
    "\n",
    "    return pairwise_scores\n",
    "\n",
    "\n",
    "def seq_assembly(sequences, score_mat):\n",
    "    # all sequences in multiple sequence alignment\n",
    "    # all_seqs = set()\n",
    "    # for s1, s2 in pairwise_scores.keys():\n",
    "    #     all_seqs.update([s1, s2])\n",
    "\n",
    "    seqs = deepcopy(sequences)\n",
    "    while len(seqs) > 1:\n",
    "        # perform msa\n",
    "        pairwise_scores = perform_msa(sequences=seqs, score_mat=score_mat)\n",
    "        # sort pairwise alignments based on scores\n",
    "        sorted_scores = sorted(pairwise_scores.items(), key=lambda x: x[1], reverse=True)\n",
    "        for scores in sorted_scores:\n",
    "            seq1, seq2 = scores[0]\n",
    "            alignment = scores[1][2]\n",
    "\n",
    "            # find overlapping ends\n",
    "            if find_overlapping_ends(seq1=seq1, seq2=seq2, aligned_seq=alignment):\n",
    "                merged_seq = merge_overlapping_ends(seq1=seq1, seq2=seq2, aligned_seq=alignment)\n",
    "                seqs.remove(seq1)\n",
    "                seqs.remove(seq2)\n",
    "                seqs.append(merged_seq)\n",
    "                break\n",
    "            else:  # if no overlapping ends, check next highest scoring pairwise alignment\n",
    "                pass\n",
    "    return seqs[0]\n",
    "\n"
   ],
   "metadata": {
    "collapsed": false,
    "pycharm": {
     "name": "#%%\n"
    }
   }
  },
  {
   "cell_type": "code",
   "execution_count": 82,
   "outputs": [
    {
     "data": {
      "text/plain": "['CTTTATTTTCACCACAAACAGAGATTAAAGAAAGTGTTGGATTAAAAGAT',\n 'AAACAGAGATTAAAGAAAGTGTTGGATTAAAAGATGGTGTTAAAGAGTAA',\n 'TAAAGAAAGTGTTGGATTAAAAGATGGTGTTAAAGAGTAAAAATTGACTT',\n 'AAGATGGTGTTAAAGAGTAAAAATTGACTTATTATACTCCTGAATACGAA',\n 'AGAGTAAAAATTGACTTATTATACTCCTGAATACGAAACCAAAGATACTG',\n 'TTGACTTATTATACTCCTGAATACGAAACCAAAGATACTGATATCTTGGC',\n 'ACTCCTGAATACGAAACCAAAGATACTGATATCTTGGCAGCATTCCGAGT',\n 'CTGATATCTTGGCAGCATTCCGAGTAACTCCTCAACCTGGAGTTCCACCC',\n 'CTCAACCTGGAGTTCCACCCGAAGAAGCAGGGGCCGCGGTAGCTGCCGAA',\n 'CACCCGAAGAAGCAGGGGCCGCGGTAGCTGCCGAATCTTCTACCGGTACA']"
     },
     "execution_count": 82,
     "metadata": {},
     "output_type": "execute_result"
    }
   ],
   "source": [
    "dna_kmers_random"
   ],
   "metadata": {
    "collapsed": false,
    "pycharm": {
     "name": "#%%\n"
    }
   }
  },
  {
   "cell_type": "code",
   "execution_count": 106,
   "outputs": [
    {
     "data": {
      "text/plain": "'CTTTATTTTCACCACAAACAGAGATTAAAGAAAGTGTTGGATTAAAAGATGGTGTTAAAGAGTAAAAATTGACTTATTATACTCCTGAATACGAAACCAAAGATACTGATATCTTGGCAGCATTCCGAGTAACTCCTCAACCTGGAGTTCCACCCGAAGAAGCAGGGGCCGCGGTAGCTGCCGAATCTTCTACCGGTACA'"
     },
     "execution_count": 106,
     "metadata": {},
     "output_type": "execute_result"
    }
   ],
   "source": [
    "seq_assembly(sequences=dna_kmers_random, score_mat=d_scores)"
   ],
   "metadata": {
    "collapsed": false,
    "pycharm": {
     "name": "#%%\n"
    }
   }
  },
  {
   "cell_type": "code",
   "execution_count": 107,
   "outputs": [
    {
     "data": {
      "text/plain": "['CTTTATTTTCACCACAAACAGAGATTAAAGAAAGTGTTGGATTAAAAGAT',\n 'AAACAGAGATTAAAGAAAGTGTTGGATTAAAAGATGGTGTTAAAGAGTAA',\n 'TAAAGAAAGTGTTGGATTAAAAGATGGTGTTAAAGAGTAAAAATTGACTT',\n 'AAGATGGTGTTAAAGAGTAAAAATTGACTTATTATACTCCTGAATACGAA',\n 'AGAGTAAAAATTGACTTATTATACTCCTGAATACGAAACCAAAGATACTG',\n 'TTGACTTATTATACTCCTGAATACGAAACCAAAGATACTGATATCTTGGC',\n 'ACTCCTGAATACGAAACCAAAGATACTGATATCTTGGCAGCATTCCGAGT',\n 'CTGATATCTTGGCAGCATTCCGAGTAACTCCTCAACCTGGAGTTCCACCC',\n 'CTCAACCTGGAGTTCCACCCGAAGAAGCAGGGGCCGCGGTAGCTGCCGAA',\n 'CACCCGAAGAAGCAGGGGCCGCGGTAGCTGCCGAATCTTCTACCGGTACA']"
     },
     "execution_count": 107,
     "metadata": {},
     "output_type": "execute_result"
    }
   ],
   "source": [
    "dna_kmers_random"
   ],
   "metadata": {
    "collapsed": false,
    "pycharm": {
     "name": "#%%\n"
    }
   }
  },
  {
   "cell_type": "code",
   "execution_count": 126,
   "outputs": [
    {
     "data": {
      "text/plain": "'CTTTATTTTCACCACAAACAGAGATTAAAGAAAGTGTTGGATTAAAAGATGGTGTTAAAGAGTAAAAATTGACTTATTATACTCCTGAATACGAAACCAAAGATACTGATATCTTGGCAGCATTCCGAGTAACTCCTCAACCTGGAGTTCCACCCGAAGAAGCAGGGGCCGCGGTAGCTGCCGAATCTTCTACCGGTACATGGACAAGTGTGTGGACCGATGGACTTACCAGCCTTGATCGTTACAAAGGGCGATGCTACCACATCGAGCCCGTTCCTGGAGAAGAAGAGCAATATATTGCTTATGTAGCTTACCCCTTAGACCTTTTTGAAGAAGGTTCTGTTACTAACATGTTTACTTCCATTGTAGGTAATGTATTTGGGTTCAAAGCCCTACGCGCTCTACGTCTGGAAGATTTGCGAATCCCTCCGGCTTATATTAAAACCTTCCAAGGCCCGCCTCATGGCATCCAGGTTGAGAGAGATAAATTGAACAAATATGGTCGTCCCCTGTTGGGATGTACTATTAAACCTAAATTGGGGTTATCCGCTAAAAACTACGGTAGGGCATGTTATGAATGTCTTCGTGGTGGACTTGATTTTACCAAAGATGATGAAAACGTGAACTCCCAACCGTTTATGCGTTGGAGAGATCGATTCTTATTTGTAGCAAAAA'"
     },
     "execution_count": 126,
     "metadata": {},
     "output_type": "execute_result"
    }
   ],
   "source": [
    "predicted = seq_assembly(sequences=dna_kmers, score_mat=d_scores)\n",
    "predicted"
   ],
   "metadata": {
    "collapsed": false,
    "pycharm": {
     "name": "#%%\n"
    }
   }
  },
  {
   "cell_type": "code",
   "execution_count": 127,
   "outputs": [
    {
     "data": {
      "text/plain": "True"
     },
     "execution_count": 127,
     "metadata": {},
     "output_type": "execute_result"
    }
   ],
   "source": [
    "predicted == dna_sequence"
   ],
   "metadata": {
    "collapsed": false,
    "pycharm": {
     "name": "#%%\n"
    }
   }
  },
  {
   "cell_type": "code",
   "execution_count": 137,
   "outputs": [],
   "source": [],
   "metadata": {
    "collapsed": false,
    "pycharm": {
     "name": "#%%\n"
    }
   }
  },
  {
   "cell_type": "code",
   "execution_count": 138,
   "outputs": [
    {
     "data": {
      "text/plain": "{'AA': 1,\n 'AT': -4,\n 'AG': -4,\n 'AC': -4,\n 'TT': 1,\n 'GT': -4,\n 'CT': -4,\n 'GG': 1,\n 'CG': -4,\n 'CC': 1}"
     },
     "execution_count": 138,
     "metadata": {},
     "output_type": "execute_result"
    }
   ],
   "source": [
    "dna_scores = 'C:\\\\Users\\\\kriti\\\\Desktop\\\\SEM_3\\\\PLAB_II\\\\Group_Project\\\\Group_4_env\\\\Amin-plab-4_solution2\\\\dna_scores.txt'\n",
    "d_scores = read_blosum(dna_scores)\n",
    "d_scores"
   ],
   "metadata": {
    "collapsed": false,
    "pycharm": {
     "name": "#%%\n"
    }
   }
  },
  {
   "cell_type": "markdown",
   "source": [
    "# extra functions\n",
    "\n",
    "- read fasta file\n",
    "- create file with assembled sequence\n",
    "- create file with list of predicted ammino acids\n",
    "- create file with list of predicted proteins\n",
    "- create function for checking if list sequences is of nucleotide or amino acids."
   ],
   "metadata": {
    "collapsed": false
   }
  },
  {
   "cell_type": "code",
   "execution_count": 3,
   "outputs": [],
   "source": [
    "fastq = 'C:\\\\Users\\\\kriti\\\\Desktop\\\\SEM_3\\\\PLAB_II\\\\Group_Project\\\\Group_4_env\\\\fastq_dummy.fastq'"
   ],
   "metadata": {
    "collapsed": false,
    "pycharm": {
     "name": "#%%\n"
    }
   }
  },
  {
   "cell_type": "code",
   "execution_count": 4,
   "outputs": [
    {
     "data": {
      "text/plain": "'@MN00537:51:000H2K25G:1:11101:2213:1092 1:N:0:9\\nCTCCAGTCCTTACTCCCATATCTAACCTCTT\\n+\\nFFFFFFFFFFFFAFFFFFFFF=FFFFAFFFFFFF/AFFF#FFFFFFFFF#FFFFFFFF\\n\\n@MN00675:51:000H2K25G:1:11101:2213:1092 1:N:0:9\\nCTCCAGTCCTTACTCCGGGGGGGGCATATCT\\n+\\nFFFFFFFFFFFFAFFFFFFFF=FFFFFFFFFFFF/AFFF#FFFFFFFFF#FFFFFFFF\\n\\n@MN00747:51:000H2K25G:1:11101:2213:1092 1:N:0:9\\nCTCCAGTCCTTACTCCCATATCTAACCTAAA\\n+\\nFFFFFFFFFFFFAFFFFFFFF=FFFFAFFFFFFF/AFFF#FFFFFFFFF#FFFFFFFF\\n\\n@MN00457:51:000H2K25G:1:11101:2213:1092 1:N:0:9\\nCTCCAGTCCTTACCCCCCCCCCCTCCCATAT\\n+\\nFFFFFFFFFFFFAFFFFFFFF=FFFFAFFFFFFF/AFFF#FFFFFFFFF#FFFFFFFF'"
     },
     "execution_count": 4,
     "metadata": {},
     "output_type": "execute_result"
    }
   ],
   "source": [
    "with open(fastq, 'r') as fifi:\n",
    "    fasq = fifi.read()\n",
    "\n",
    "fasq"
   ],
   "metadata": {
    "collapsed": false,
    "pycharm": {
     "name": "#%%\n"
    }
   }
  },
  {
   "cell_type": "code",
   "execution_count": null,
   "outputs": [],
   "source": [],
   "metadata": {
    "collapsed": false,
    "pycharm": {
     "name": "#%%\n"
    }
   }
  },
  {
   "cell_type": "code",
   "execution_count": 8,
   "outputs": [
    {
     "name": "stdout",
     "output_type": "stream",
     "text": [
      "start\n",
      "fasta\n",
      "['AAAAGAGTCTAAAGGTTAAGAT', 'GGTTAAGATGATCAATTAACAA']\n",
      "AAAAGAGTCTAAAGGTTAAGATGATCAATTAACAA\n",
      "fastq\n",
      "['CCCATATCTAGGGCA', 'TAGGGCATATTTACT', 'ATATCTAGGGCATAT', 'TTTACTCCCGTATCA']\n",
      "CCCATATCTAGGGCATATTTACTCCCGTATCA\n",
      "end\n"
     ]
    }
   ],
   "source": [
    "%run sequence_assembly.py"
   ],
   "metadata": {
    "collapsed": false,
    "pycharm": {
     "name": "#%%\n"
    }
   }
  },
  {
   "cell_type": "code",
   "execution_count": 11,
   "outputs": [
    {
     "name": "stdout",
     "output_type": "stream",
     "text": [
      "============================= test session starts =============================\n",
      "platform win32 -- Python 3.9.9, pytest-6.2.5, py-1.11.0, pluggy-1.0.0\n",
      "rootdir: C:\\Users\\kriti\\Desktop\\PLAB2_venv\\group_4\\backend_code\n",
      "collected 0 items\n",
      "\n",
      "============================ no tests ran in 0.27s ============================\n"
     ]
    }
   ],
   "source": [
    "!coverage run -m pytest sequence_assembly.py"
   ],
   "metadata": {
    "collapsed": false,
    "pycharm": {
     "name": "#%%\n"
    }
   }
  },
  {
   "cell_type": "code",
   "execution_count": null,
   "outputs": [],
   "source": [
    "\n",
    "if __name__ == '__main__':\n",
    "    print('start')\n",
    "    print('fasta')\n",
    "    obj =Assembly(sequences='fasta_dummy.fasta')\n",
    "    print(obj.seqs)\n",
    "    print(obj.assembled_sequence)\n",
    "    print('fastq')\n",
    "    obj2 = Assembly(sequences='fastq_dummy.fastq')\n",
    "    print(obj2.seqs)\n",
    "    print(obj2.assembled_sequence)\n",
    "    print('end')"
   ],
   "metadata": {
    "collapsed": false,
    "pycharm": {
     "name": "#%%\n"
    }
   }
  },
  {
   "cell_type": "markdown",
   "source": [],
   "metadata": {
    "collapsed": false
   }
  }
 ],
 "metadata": {
  "kernelspec": {
   "display_name": "Python 3",
   "language": "python",
   "name": "python3"
  },
  "language_info": {
   "codemirror_mode": {
    "name": "ipython",
    "version": 2
   },
   "file_extension": ".py",
   "mimetype": "text/x-python",
   "name": "python",
   "nbconvert_exporter": "python",
   "pygments_lexer": "ipython2",
   "version": "2.7.6"
  }
 },
 "nbformat": 4,
 "nbformat_minor": 0
}